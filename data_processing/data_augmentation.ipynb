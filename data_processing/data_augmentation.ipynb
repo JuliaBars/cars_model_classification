{
 "cells": [
  {
   "cell_type": "code",
   "execution_count": null,
   "metadata": {},
   "outputs": [],
   "source": [
    "import numpy as np\n",
    "import cv2\n",
    "import matplotlib.pyplot as plt\n",
    "\n",
    "original_image = cv2.imread('/content/drive/MyDrive/train/Acura_MDX/Acura MDX_298.jpg', cv2.IMREAD_COLOR)\n",
    "\n",
    "# \"Convert\" from BlueGreenRed (BGR) to RGB (RedGreenBlue)\n",
    "# This is a flip in the third dimension.\n",
    "original_image = np.flip(original_image, axis=2)\n",
    "plt.imshow(original_image)\n",
    "plt.show()"
   ]
  },
  {
   "cell_type": "code",
   "execution_count": null,
   "metadata": {},
   "outputs": [],
   "source": [
    "import torch\n",
    "\n",
    "torch_image = torch.tensor(\n",
    "    np.moveaxis(original_image.astype(dtype=np.float32) / 255.0, 2, 0)\n",
    ")\n",
    "print(torch_image.shape)"
   ]
  },
  {
   "cell_type": "code",
   "execution_count": null,
   "metadata": {},
   "outputs": [],
   "source": [
    "# Available policies are IMAGENET, CIFAR10 and SVHN\n",
    "from torchvision import transforms\n",
    "random_auto1_transform = transforms.AutoAugment(\n",
    "    transforms.AutoAugmentPolicy.CIFAR10\n",
    ")\n",
    "for i in range(1, 10):\n",
    "    new_image = random_auto1_transform((torch_image * 255).type(dtype=torch.uint8))\n",
    "    plt.subplot(3, 3, i)\n",
    "    plt.imshow(np.moveaxis(new_image.detach().numpy(), 0, 2))\n",
    "plt.show()"
   ]
  }
 ],
 "metadata": {
  "language_info": {
   "name": "python"
  },
  "orig_nbformat": 4
 },
 "nbformat": 4,
 "nbformat_minor": 2
}
